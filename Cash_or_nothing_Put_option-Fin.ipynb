{
 "cells": [
  {
   "cell_type": "code",
   "execution_count": 1,
   "metadata": {
    "collapsed": true
   },
   "outputs": [],
   "source": [
    "%matplotlib inline\n",
    "import matplotlib.pyplot as plt\n",
    "import matplotlib\n",
    "import numpy as np\n",
    "import pandas as pd\n",
    "import seaborn as sns\n",
    "matplotlib.style.use('ggplot')"
   ]
  },
  {
   "cell_type": "code",
   "execution_count": 2,
   "metadata": {
    "collapsed": true
   },
   "outputs": [],
   "source": [
    "import time\n",
    "import math"
   ]
  },
  {
   "cell_type": "code",
   "execution_count": 3,
   "metadata": {
    "collapsed": true
   },
   "outputs": [],
   "source": [
    "a = 15\n",
    "b = -5\n",
    "d = 0.5\n",
    "r = 0.02\n",
    "T = 1\n",
    "k = 100\n",
    "s0 = 100"
   ]
  },
  {
   "cell_type": "code",
   "execution_count": 4,
   "metadata": {
    "collapsed": true
   },
   "outputs": [],
   "source": [
    "h = 0.01\n",
    "m = 10000"
   ]
  },
  {
   "cell_type": "code",
   "execution_count": 5,
   "metadata": {
    "collapsed": true
   },
   "outputs": [],
   "source": [
    "mu=r+d*((a**2-(b+1)**2)**0.5-(a**2-b**2)**0.5)\n",
    "amb = (a**2-b**2)**0.5"
   ]
  },
  {
   "cell_type": "code",
   "execution_count": 9,
   "metadata": {},
   "outputs": [
    {
     "name": "stdout",
     "output_type": "stream",
     "text": [
      "60000\n",
      "0.46553581021\n",
      "120000\n",
      "0.465535721032\n",
      "180000\n",
      "0.465535691306\n",
      "240000\n",
      "0.465535676443\n",
      "300000\n",
      "0.465535667525\n",
      "360000\n",
      "0.46553566158\n",
      "420000\n",
      "0.465535657333\n",
      "480000\n",
      "0.465535654149\n",
      "540000\n",
      "0.465535651671\n",
      "600000\n",
      "0.46553564969\n",
      "660000\n",
      "0.465535648068\n",
      "720000\n",
      "0.465535646717\n",
      "780000\n",
      "0.465535645574\n",
      "840000\n",
      "0.465535644594\n",
      "900000\n",
      "0.465535643744\n",
      "960000\n",
      "0.465535643001\n",
      "1020000\n",
      "0.465535642346\n",
      "1080000\n",
      "0.465535641763\n",
      "1140000\n",
      "0.465535641241\n",
      "1200000\n",
      "0.465535640772\n",
      "1260000\n",
      "0.465535640347\n",
      "1320000\n",
      "0.465535639961\n",
      "1380000\n",
      "0.465535639609\n",
      "1440000\n",
      "0.465535639286\n",
      "1500000\n",
      "0.465535638988\n",
      "1560000\n",
      "0.465535638714\n",
      "1620000\n",
      "0.46553563846\n",
      "1680000\n",
      "0.465535638224\n",
      "1740000\n",
      "0.465535638004\n",
      "1800000\n",
      "0.465535637799\n",
      "1860000\n",
      "0.465535637607\n",
      "1920000\n",
      "0.465535637428\n",
      "1980000\n",
      "0.465535637259\n",
      "2040000\n",
      "0.4655356371\n",
      "2100000\n",
      "0.46553563695\n",
      "2160000\n",
      "0.465535636808\n",
      "2220000\n",
      "0.465535636674\n",
      "2280000\n",
      "0.465535636548\n",
      "2340000\n",
      "0.465535636427\n",
      "2400000\n",
      "0.465535636313\n",
      "2460000\n",
      "0.465535636204\n",
      "2520000\n",
      "0.465535636101\n",
      "2580000\n",
      "0.465535636002\n",
      "2640000\n",
      "0.465535635908\n",
      "2700000\n",
      "0.465535635817\n",
      "2760000\n",
      "0.465535635731\n",
      "2820000\n",
      "0.465535635649\n",
      "2880000\n",
      "0.46553563557\n",
      "2940000\n",
      "0.465535635494\n",
      "3000000\n",
      "0.465535635421\n",
      "3060000\n",
      "0.465535635351\n",
      "3120000\n",
      "0.465535635284\n",
      "3180000\n",
      "0.465535635219\n",
      "3240000\n",
      "0.465535635157\n",
      "3300000\n",
      "0.465535635097\n",
      "3360000\n",
      "0.465535635039\n",
      "3420000\n",
      "0.465535634983\n",
      "3480000\n",
      "0.465535634929\n",
      "3540000\n",
      "0.465535634877\n",
      "3600000\n",
      "0.465535634827\n",
      "3660000\n",
      "0.465535634778\n",
      "3720000\n",
      "0.465535634731\n",
      "3780000\n",
      "0.465535634685\n",
      "3840000\n",
      "0.465535634641\n",
      "3900000\n",
      "0.465535634598\n",
      "3960000\n",
      "0.465535634556\n",
      "4020000\n",
      "0.465535634516\n",
      "4080000\n",
      "0.465535634477\n",
      "4140000\n",
      "0.465535634439\n",
      "4200000\n",
      "0.465535634402\n",
      "4260000\n",
      "0.465535634366\n",
      "4320000\n",
      "0.465535634331\n",
      "4380000\n",
      "0.465535634297\n",
      "4440000\n",
      "0.465535634264\n",
      "4500000\n",
      "0.465535634232\n",
      "4560000\n",
      "0.465535634201\n",
      "4620000\n",
      "0.46553563417\n",
      "4680000\n",
      "0.465535634141\n",
      "4740000\n",
      "0.465535634112\n",
      "4800000\n",
      "0.465535634083\n",
      "4860000\n",
      "0.465535634056\n",
      "4920000\n",
      "0.465535634029\n",
      "4980000\n",
      "0.465535634003\n",
      "5040000\n",
      "0.465535633977\n",
      "5100000\n",
      "0.465535633952\n",
      "5160000\n",
      "0.465535633928\n",
      "5220000\n",
      "0.465535633904\n",
      "5280000\n",
      "0.465535633881\n",
      "5340000\n",
      "0.465535633858\n",
      "5400000\n",
      "0.465535633836\n",
      "5460000\n",
      "0.465535633814\n",
      "5520000\n",
      "0.465535633793\n",
      "5580000\n",
      "0.465535633772\n",
      "5640000\n",
      "0.465535633751\n",
      "5700000\n",
      "0.465535633731\n",
      "5760000\n",
      "0.465535633712\n",
      "5820000\n",
      "0.465535633693\n",
      "5880000\n",
      "0.465535633674\n",
      "5940000\n",
      "0.465535633656\n",
      "6000000\n",
      "0.465535633638\n"
     ]
    }
   ],
   "source": [
    "#h = 0.00001\n",
    "#m = 6000000\n",
    "U = 60\n",
    "M = 60000\n",
    "\n",
    "L = []\n",
    "H = []\n",
    "\n",
    "while M < 6060000:\n",
    "    m = M\n",
    "    h = U/M\n",
    "    Xi = np.arange(0+h,(m+1)*h,h)\n",
    "    phi = math.e**(1j*mu*T*Xi-d*T*((a**2-(b+1j*Xi)**2)**0.5-(a**2-b**2)**0.5))\n",
    "    f = -1*phi.imag*2/Xi\n",
    "    P = (sum(f)-0.5*(f[0]+f[-1]))*h\n",
    "    res = np.exp(-r*T)*(P/(2*math.pi)+0.5)\n",
    "    print(M)\n",
    "    print(res)\n",
    "    L.append(res)\n",
    "    H.append(h)\n",
    "    M += 60000\n",
    "    "
   ]
  },
  {
   "cell_type": "code",
   "execution_count": 11,
   "metadata": {},
   "outputs": [
    {
     "ename": "TypeError",
     "evalue": "unsupported operand type(s) for /: 'int' and 'list'",
     "output_type": "error",
     "traceback": [
      "\u001b[0;31m---------------------------------------------------------------------------\u001b[0m",
      "\u001b[0;31mTypeError\u001b[0m                                 Traceback (most recent call last)",
      "\u001b[0;32m<ipython-input-11-045f8b41b23d>\u001b[0m in \u001b[0;36m<module>\u001b[0;34m()\u001b[0m\n\u001b[0;32m----> 1\u001b[0;31m \u001b[0mplt\u001b[0m\u001b[0;34m.\u001b[0m\u001b[0mplot\u001b[0m\u001b[0;34m(\u001b[0m\u001b[0mL\u001b[0m\u001b[0;34m,\u001b[0m\u001b[0;36m1\u001b[0m\u001b[0;34m/\u001b[0m\u001b[0mH\u001b[0m\u001b[0;34m)\u001b[0m\u001b[0;34m\u001b[0m\u001b[0m\n\u001b[0m",
      "\u001b[0;31mTypeError\u001b[0m: unsupported operand type(s) for /: 'int' and 'list'"
     ]
    }
   ],
   "source": [
    "plt.plot(L,H)"
   ]
  },
  {
   "cell_type": "code",
   "execution_count": 113,
   "metadata": {},
   "outputs": [
    {
     "data": {
      "text/plain": [
       "<matplotlib.text.Text at 0x113711080>"
      ]
     },
     "execution_count": 113,
     "metadata": {},
     "output_type": "execute_result"
    },
    {
     "data": {
      "image/png": "[encoded data removed]",
      "text/plain": [
       "<matplotlib.figure.Figure at 0x1136f7240>"
      ]
     },
     "metadata": {},
     "output_type": "display_data"
    }
   ],
   "source": [
    "invH = [1/x for x in H]\n",
    "sqH = [x**2 for x in H]\n",
    "exH1 = [math.e**(-0.0002/x) for x in H]\n",
    "exH2 = [math.e**(-1000000/x) for x in H]\n",
    "errL = [abs(0.465535631934-x) for x in L]\n",
    "plt.plot(invH,errL, label='error')\n",
    "plt.plot(invH,sqH, label='h^2')\n",
    "plt.plot(invH,exH1, label='e^(-c/h)')\n",
    "\n",
    "plt.yscale('log')\n",
    "plt.legend(fontsize=15)\n",
    "plt.title(\"The absolute pricing error as a function of 1/h, with fixed U\", fontsize=18)\n",
    "plt.xlabel(\"1/h\", fontsize=15)\n",
    "plt.ylabel(\"error\", fontsize=15)"
   ]
  },
  {
   "cell_type": "code",
   "execution_count": 72,
   "metadata": {},
   "outputs": [
    {
     "name": "stdout",
     "output_type": "stream",
     "text": [
      "60000\n",
      "0.489981467852\n",
      "120000\n",
      "0.489799862531\n",
      "180000\n",
      "0.489497493333\n",
      "240000\n",
      "0.489029751845\n",
      "300000\n",
      "0.488368313391\n",
      "360000\n",
      "0.487502780509\n",
      "420000\n",
      "0.486440085498\n",
      "480000\n",
      "0.485202145139\n",
      "540000\n",
      "0.483822097915\n",
      "600000\n",
      "0.482340179736\n",
      "660000\n",
      "0.480799438974\n",
      "720000\n",
      "0.479242228243\n",
      "780000\n",
      "0.477707239789\n",
      "840000\n",
      "0.47622756247\n",
      "900000\n",
      "0.474829565062\n",
      "960000\n",
      "0.473532649394\n",
      "1020000\n",
      "0.472349381203\n",
      "1080000\n",
      "0.471286174983\n",
      "1140000\n",
      "0.470344290091\n",
      "1200000\n",
      "0.469520850373\n",
      "1260000\n",
      "0.468809748675\n",
      "1320000\n",
      "0.468202753257\n",
      "1380000\n",
      "0.467690275867\n",
      "1440000\n",
      "0.467262087026\n",
      "1500000\n",
      "0.466907870235\n",
      "1560000\n",
      "0.466617636799\n",
      "1620000\n",
      "0.466382012422\n",
      "1680000\n",
      "0.466192438999\n",
      "1740000\n",
      "0.466041237668\n",
      "1800000\n",
      "0.465921674041\n",
      "1860000\n",
      "0.465827932299\n",
      "1920000\n",
      "0.465755049174\n",
      "1980000\n",
      "0.46569886477\n",
      "2040000\n",
      "0.465655919519\n",
      "2100000\n",
      "0.465623378961\n",
      "2160000\n",
      "0.465598942053\n",
      "2220000\n",
      "0.465580760728\n",
      "2280000\n",
      "0.465567365418\n",
      "2340000\n",
      "0.465557598764\n",
      "2400000\n",
      "0.465550557869\n",
      "2460000\n",
      "0.465545544898\n",
      "2520000\n",
      "0.465542025522\n",
      "2580000\n",
      "0.465539594439\n",
      "2640000\n",
      "0.465537947158\n",
      "2700000\n",
      "0.465536857184\n",
      "2760000\n",
      "0.465536157785\n",
      "2820000\n",
      "0.465535727567\n",
      "2880000\n",
      "0.465535479204\n",
      "2940000\n",
      "0.465535350695\n",
      "3000000\n",
      "0.465535298674\n",
      "3060000\n",
      "0.465535293326\n",
      "3120000\n",
      "0.465535314576\n",
      "3180000\n",
      "0.465535349246\n",
      "3240000\n",
      "0.46553538898\n",
      "3300000\n",
      "0.465535428721\n",
      "3360000\n",
      "0.465535465629\n",
      "3420000\n",
      "0.465535498312\n",
      "3480000\n",
      "0.465535526292\n",
      "3540000\n",
      "0.465535549634\n",
      "3600000\n",
      "0.465535568709\n",
      "3660000\n",
      "0.465535584027\n",
      "3720000\n",
      "0.465535596147\n",
      "3780000\n",
      "0.465535605607\n",
      "3840000\n",
      "0.465535612902\n",
      "3900000\n",
      "0.465535618463\n",
      "3960000\n",
      "0.465535622656\n",
      "4020000\n",
      "0.465535625783\n",
      "4080000\n",
      "0.465535628091\n",
      "4140000\n",
      "0.465535629776\n",
      "4200000\n",
      "0.465535630992\n",
      "4260000\n",
      "0.465535631858\n",
      "4320000\n",
      "0.465535632469\n",
      "4380000\n",
      "0.465535632892\n",
      "4440000\n",
      "0.46553563318\n",
      "4500000\n",
      "0.465535633373\n",
      "4560000\n",
      "0.465535633499\n",
      "4620000\n",
      "0.465535633579\n",
      "4680000\n",
      "0.465535633627\n",
      "4740000\n",
      "0.465535633654\n",
      "4800000\n",
      "0.465535633668\n",
      "4860000\n",
      "0.465535633673\n",
      "4920000\n",
      "0.465535633673\n",
      "4980000\n",
      "0.465535633671\n",
      "5040000\n",
      "0.465535633667\n",
      "5100000\n",
      "0.465535633662\n",
      "5160000\n",
      "0.465535633658\n",
      "5220000\n",
      "0.465535633654\n",
      "5280000\n",
      "0.465535633651\n",
      "5340000\n",
      "0.465535633648\n",
      "5400000\n",
      "0.465535633645\n",
      "5460000\n",
      "0.465535633644\n",
      "5520000\n",
      "0.465535633642\n",
      "5580000\n",
      "0.465535633641\n",
      "5640000\n",
      "0.46553563364\n",
      "5700000\n",
      "0.465535633639\n",
      "5760000\n",
      "0.465535633639\n",
      "5820000\n",
      "0.465535633638\n",
      "5880000\n",
      "0.465535633638\n",
      "5940000\n",
      "0.465535633638\n",
      "6000000\n",
      "0.465535633638\n"
     ]
    }
   ],
   "source": [
    "#h = 0.00001\n",
    "#m = 6000000\n",
    "h = 0.00001\n",
    "M = 60000\n",
    "\n",
    "L2 = []\n",
    "u = []\n",
    "\n",
    "while M < 6060000:\n",
    "    U = M*h\n",
    "    m = M\n",
    "    Xi = np.arange(0+h,(m+1)*h,h)\n",
    "    phi = math.e**(1j*mu*T*Xi-d*T*((a**2-(b+1j*Xi)**2)**0.5-(a**2-b**2)**0.5))\n",
    "    f = -1*phi.imag*2/Xi\n",
    "    P = (sum(f)-0.5*(f[0]+f[-1]))*h\n",
    "    res = np.exp(-r*T)*(P/(2*math.pi)+0.5)\n",
    "    print(M)\n",
    "    print(res)\n",
    "    L2.append(res)\n",
    "    u.append(U)\n",
    "    M += 60000"
   ]
  },
  {
   "cell_type": "code",
   "execution_count": 115,
   "metadata": {},
   "outputs": [
    {
     "data": {
      "text/plain": [
       "<matplotlib.text.Text at 0x112e64ac8>"
      ]
     },
     "execution_count": 115,
     "metadata": {},
     "output_type": "execute_result"
    },
    {
     "data": {
      "image/png": "[encoded data removed]",
      "text/plain": [
       "<matplotlib.figure.Figure at 0x1112e2358>"
      ]
     },
     "metadata": {},
     "output_type": "display_data"
    }
   ],
   "source": [
    "exu = [math.e**(-0.5*x) for x in u]\n",
    "errL2 = [abs(0.465535631934-x) for x in L2]\n",
    "plt.plot(u,errL2, label='error')\n",
    "plt.plot(u,exu, label='e^(-cU)')\n",
    "\n",
    "plt.yscale('log')\n",
    "plt.legend(fontsize=15)\n",
    "plt.title(\"The absolute pricing error as a function of U, with fixed h\", fontsize=18)\n",
    "plt.xlabel(\"U\", fontsize=15)\n",
    "plt.ylabel(\"error\", fontsize=15)"
   ]
  },
  {
   "cell_type": "code",
   "execution_count": 10,
   "metadata": {},
   "outputs": [
    {
     "data": {
      "text/plain": [
       "0.475031054904596"
      ]
     },
     "execution_count": 10,
     "metadata": {},
     "output_type": "execute_result"
    }
   ],
   "source": [
    "-0.15688450895921618/(2*math.pi)+0.5"
   ]
  },
  {
   "cell_type": "code",
   "execution_count": 12,
   "metadata": {},
   "outputs": [
    {
     "data": {
      "text/plain": [
       "0.46562480979699344"
      ]
     },
     "execution_count": 12,
     "metadata": {},
     "output_type": "execute_result"
    }
   ],
   "source": [
    "np.exp(-r*T)*(-0.15688450895921618/(2*math.pi)+0.5)"
   ]
  },
  {
   "cell_type": "code",
   "execution_count": 7,
   "metadata": {},
   "outputs": [
    {
     "name": "stdout",
     "output_type": "stream",
     "text": [
      "-0.157456148591\n",
      "19.935423\n",
      "-1.37278808017e-12\n"
     ]
    }
   ],
   "source": [
    "h = 0.000001\n",
    "m = 60000000\n",
    "\n",
    "start = time.clock()\n",
    "Xi = np.arange(0+h,(m+1)*h,h)\n",
    "phi = math.e**(1j*mu*T*Xi-d*T*((a**2-(b+1j*Xi)**2)**0.5-(a**2-b**2)**0.5))\n",
    "f = -1*phi.imag*2/Xi\n",
    "res = (sum(f)-0.5*(f[0]+f[-1]))*h\n",
    "end = time.clock()\n",
    "print(res)\n",
    "print(end-start)\n",
    "print(f[-1])"
   ]
  },
  {
   "cell_type": "code",
   "execution_count": 8,
   "metadata": {},
   "outputs": [
    {
     "name": "stdout",
     "output_type": "stream",
     "text": [
      "-0.157456138313\n",
      "1.7962880000000006\n",
      "-1.37278808017e-12\n"
     ]
    }
   ],
   "source": [
    "h = 0.00001\n",
    "m = 6000000\n",
    "\n",
    "start = time.clock()\n",
    "Xi = np.arange(0+h,(m+1)*h,h)\n",
    "phi = math.e**(1j*mu*T*Xi-d*T*((a**2-(b+1j*Xi)**2)**0.5-(a**2-b**2)**0.5))\n",
    "f = -1*phi.imag*2/Xi\n",
    "res = (sum(f)-0.5*(f[0]+f[-1]))*h\n",
    "end = time.clock()\n",
    "print(res)\n",
    "print(end-start)\n",
    "print(f[-1])"
   ]
  },
  {
   "cell_type": "code",
   "execution_count": 9,
   "metadata": {},
   "outputs": [
    {
     "name": "stdout",
     "output_type": "stream",
     "text": [
      "-0.0451748818276\n",
      "2.7509900000000016\n"
     ]
    }
   ],
   "source": [
    "h = 0.000001\n",
    "m = 10000000\n",
    "\n",
    "start = time.clock()\n",
    "Xi = np.arange(m*h+h,(2*m+1)*h,h)\n",
    "phi = math.e**(1j*mu*T*Xi-d*T*((a**2-(b+1j*Xi)**2)**0.5-(a**2-b**2)**0.5))\n",
    "f = -1*phi.imag*2/Xi\n",
    "res = (sum(f)-0.5*(f[0]+f[-1]))*h\n",
    "end = time.clock()\n",
    "print(res)\n",
    "print(end-start)"
   ]
  },
  {
   "cell_type": "code",
   "execution_count": 86,
   "metadata": {},
   "outputs": [
    {
     "data": {
      "text/plain": [
       "array([ 100.000001  ,  100.000002  ,  100.000003  , ...,  199.99999775,\n",
       "        199.99999875,  199.99999975])"
      ]
     },
     "execution_count": 86,
     "metadata": {},
     "output_type": "execute_result"
    }
   ],
   "source": [
    "np.arange(m*h+h,(2*m+1)*h,h)"
   ]
  },
  {
   "cell_type": "code",
   "execution_count": 93,
   "metadata": {},
   "outputs": [
    {
     "data": {
      "text/plain": [
       "1.0277999978880459e-08"
      ]
     },
     "execution_count": 93,
     "metadata": {},
     "output_type": "execute_result"
    }
   ],
   "source": [
    "(-0.157456138313)-(-0.157456148591)"
   ]
  },
  {
   "cell_type": "code",
   "execution_count": 95,
   "metadata": {},
   "outputs": [
    {
     "name": "stdout",
     "output_type": "stream",
     "text": [
      "-0.157456149165\n",
      "46.879898\n",
      "-1.37278808017e-12\n"
     ]
    }
   ],
   "source": [
    "h = 0.0000005\n",
    "m = 120000000\n",
    "\n",
    "start = time.clock()\n",
    "Xi = np.arange(0+h,(m+1)*h,h)\n",
    "phi = math.e**(1j*mu*T*Xi-d*T*((a**2-(b+1j*Xi)**2)**0.5-(a**2-b**2)**0.5))\n",
    "f = -1*phi.imag*2/Xi\n",
    "res = (sum(f)-0.5*(f[0]+f[-1]))*h\n",
    "end = time.clock()\n",
    "print(res)\n",
    "print(end-start)\n",
    "print(f[-1])"
   ]
  },
  {
   "cell_type": "code",
   "execution_count": 96,
   "metadata": {},
   "outputs": [
    {
     "data": {
      "text/plain": [
       "-5.740000141862822e-10"
      ]
     },
     "execution_count": 96,
     "metadata": {},
     "output_type": "execute_result"
    }
   ],
   "source": [
    "(-0.157456149165)-(-0.157456148591)"
   ]
  },
  {
   "cell_type": "code",
   "execution_count": 98,
   "metadata": {},
   "outputs": [
    {
     "name": "stdout",
     "output_type": "stream",
     "text": [
      "-0.157456149235\n",
      "135.051473\n",
      "-1.37278808017e-12\n"
     ]
    }
   ],
   "source": [
    "h = 0.00000025\n",
    "m = 240000000\n",
    "\n",
    "start = time.clock()\n",
    "Xi = np.arange(0+h,(m+1)*h,h)\n",
    "phi = math.e**(1j*mu*T*Xi-d*T*((a**2-(b+1j*Xi)**2)**0.5-(a**2-b**2)**0.5))\n",
    "f = -1*phi.imag*2/Xi\n",
    "res = (sum(f)-0.5*(f[0]+f[-1]))*h\n",
    "end = time.clock()\n",
    "print(res)\n",
    "print(end-start)\n",
    "print(f[-1])"
   ]
  },
  {
   "cell_type": "code",
   "execution_count": 99,
   "metadata": {},
   "outputs": [
    {
     "data": {
      "text/plain": [
       "-7.000000579182597e-11"
      ]
     },
     "execution_count": 99,
     "metadata": {},
     "output_type": "execute_result"
    }
   ],
   "source": [
    "(-0.157456149235)-(-0.157456149165)"
   ]
  },
  {
   "cell_type": "code",
   "execution_count": 11,
   "metadata": {},
   "outputs": [
    {
     "name": "stdout",
     "output_type": "stream",
     "text": [
      "0.465535631934\n",
      "0.465535631945\n",
      "1.09202091814e-11\n"
     ]
    }
   ],
   "source": [
    "r2524 = np.exp(-r*T)*(-0.157456149235/(2*math.pi)+0.5)\n",
    "r5012 = np.exp(-r*T)*(-0.157456149165/(2*math.pi)+0.5)\n",
    "print(r2524)\n",
    "print(r5012)\n",
    "print(r5012-r2524)"
   ]
  },
  {
   "cell_type": "code",
   "execution_count": 102,
   "metadata": {},
   "outputs": [
    {
     "data": {
      "text/plain": [
       "60.0"
      ]
     },
     "execution_count": 102,
     "metadata": {},
     "output_type": "execute_result"
    }
   ],
   "source": [
    "h = 0.00000025\n",
    "m = 240000000\n",
    "h*m"
   ]
  },
  {
   "cell_type": "code",
   "execution_count": 13,
   "metadata": {},
   "outputs": [
    {
     "data": {
      "text/plain": [
       "60.00000000000001"
      ]
     },
     "execution_count": 13,
     "metadata": {},
     "output_type": "execute_result"
    }
   ],
   "source": [
    "h = 0.00001\n",
    "m = 6000000\n",
    "h*m"
   ]
  },
  {
   "cell_type": "code",
   "execution_count": 14,
   "metadata": {},
   "outputs": [
    {
     "name": "stdout",
     "output_type": "stream",
     "text": [
      "0.465535631934\n",
      "0.465535632034\n",
      "1.00466246433e-10\n"
     ]
    }
   ],
   "source": [
    "rea = np.exp(-r*T)*(-0.157456148591/(2*math.pi)+0.5)\n",
    "print(r2524)\n",
    "print(rea)\n",
    "print(rea-r2524)"
   ]
  },
  {
   "cell_type": "code",
   "execution_count": 93,
   "metadata": {},
   "outputs": [
    {
     "data": {
      "text/plain": [
       "<matplotlib.text.Text at 0x11126bc50>"
      ]
     },
     "execution_count": 93,
     "metadata": {},
     "output_type": "execute_result"
    },
    {
     "data": {
      "image/png": "[encoded data removed]",
      "text/plain": [
       "<matplotlib.figure.Figure at 0x111121780>"
      ]
     },
     "metadata": {},
     "output_type": "display_data"
    }
   ],
   "source": [
    "exu = [math.e**(-0.5*x) for x in u]\n",
    "errL2 = [abs(0.465535631934-x) for x in L2]\n",
    "plt.plot(exu,errL2, label='error')\n",
    "\n",
    "plt.yscale('log')\n",
    "plt.legend(fontsize=15)\n",
    "plt.title(\"The absolute pricing error as a function of 1/h, with fixed U\", fontsize=18)\n",
    "plt.xlabel(\"U\", fontsize=15)\n",
    "plt.ylabel(\"error\", fontsize=15)"
   ]
  },
  {
   "cell_type": "code",
   "execution_count": 96,
   "metadata": {},
   "outputs": [
    {
     "name": "stdout",
     "output_type": "stream",
     "text": [
      "-0.157456149165\n",
      "62.60049600000002\n",
      "-1.37278808017e-12\n"
     ]
    }
   ],
   "source": [
    "h = 0.0000005\n",
    "m = 120000000\n",
    "\n",
    "start = time.clock()\n",
    "Xi = np.arange(0+h,(m+1)*h,h)\n",
    "phi = math.e**(1j*mu*T*Xi-d*T*((a**2-(b+1j*Xi)**2)**0.5-(a**2-b**2)**0.5))\n",
    "f = -1*phi.imag*2/Xi\n",
    "res = (sum(f)-0.5*(f[0]+f[-1]))*h\n",
    "end = time.clock()\n",
    "print(res)\n",
    "print(end-start)\n",
    "print(f[-1])"
   ]
  },
  {
   "cell_type": "code",
   "execution_count": 97,
   "metadata": {},
   "outputs": [
    {
     "name": "stdout",
     "output_type": "stream",
     "text": [
      "-0.157456149165\n",
      "138.26173199999994\n",
      "5.22495292537e-27\n"
     ]
    }
   ],
   "source": [
    "h = 0.0000005\n",
    "m = 240000000\n",
    "\n",
    "start = time.clock()\n",
    "Xi = np.arange(0+h,(m+1)*h,h)\n",
    "phi = math.e**(1j*mu*T*Xi-d*T*((a**2-(b+1j*Xi)**2)**0.5-(a**2-b**2)**0.5))\n",
    "f = -1*phi.imag*2/Xi\n",
    "res = (sum(f)-0.5*(f[0]+f[-1]))*h\n",
    "end = time.clock()\n",
    "print(res)\n",
    "print(end-start)\n",
    "print(f[-1])"
   ]
  },
  {
   "cell_type": "code",
   "execution_count": null,
   "metadata": {
    "collapsed": true
   },
   "outputs": [],
   "source": []
  }
 ],
 "metadata": {
  "kernelspec": {
   "display_name": "Python 3",
   "language": "python",
   "name": "python3"
  },
  "language_info": {
   "codemirror_mode": {
    "name": "ipython",
    "version": 3
   },
   "file_extension": ".py",
   "mimetype": "text/x-python",
   "name": "python",
   "nbconvert_exporter": "python",
   "pygments_lexer": "ipython3",
   "version": "3.5.3"
  }
 },
 "nbformat": 4,
 "nbformat_minor": 2
}
