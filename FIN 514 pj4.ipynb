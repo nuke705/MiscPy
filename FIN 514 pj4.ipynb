{
 "cells": [
  {
   "cell_type": "code",
   "execution_count": 17,
   "metadata": {},
   "outputs": [
    {
     "name": "stdout",
     "output_type": "stream",
     "text": [
      "172.22 101.35\n"
     ]
    },
    {
     "data": {
      "text/plain": [
       "array([0.25753425, 0.24931507, 0.24931507, 0.24931507, 0.24931507,\n",
       "       0.25205479, 0.25205479, 0.24383562, 0.25205479, 0.25205479,\n",
       "       0.25205479, 0.24383562])"
      ]
     },
     "execution_count": 17,
     "metadata": {},
     "output_type": "execute_result"
    }
   ],
   "source": [
    "#FIN 514 project 4\n",
    "#group:ZHI JI, YUTAO CHEN, YULONG LIU\n",
    "import numpy as np\n",
    "import matplotlib.pyplot as plt\n",
    "r = 0.013\n",
    "sigmaI = 0.22\n",
    "sigmaJ = 0.25\n",
    "cor = 0.6\n",
    "s01 = 172.22\n",
    "s02 = 101.35\n",
    "\n",
    "#uncomment to compute delta\n",
    "#s01 = s01+1\n",
    "#s02 = s02+1\n",
    "\n",
    "print(s01, s02)\n",
    "num_path = 1000000\n",
    "price = np.zeros((2,13,num_path))\n",
    "price[0,0] = s01\n",
    "price[1,0] = s02\n",
    "payoff = np.zeros((13,num_path))\n",
    "# caculate date intervals\n",
    "date = [0,94,185,276,367,458,550,642,731,823,915,1007,1096]\n",
    "dt = np.diff(date)/365\n",
    "dt"
   ]
  },
  {
   "cell_type": "code",
   "execution_count": 18,
   "metadata": {
    "collapsed": true
   },
   "outputs": [],
   "source": [
    "ini_p = [s01,s02]\n",
    "for i in range(1,13):\n",
    "    w1 = np.random.normal(0,1,num_path)\n",
    "    #w2 = np.random.normal(0,1,num_path)\n",
    "    w2 = cor*w1 + np.sqrt(1-cor**2)*np.random.normal(0,1,num_path)\n",
    "    st1 = price[0,i-1]*np.exp( (r - 0.5*sigmaI**2)*dt[i - 1] + sigmaI*np.sqrt(dt[i - 1])*w1)\n",
    "    st2 = price[1,i-1]*np.exp( (r - 0.5*sigmaJ**2)*dt[i - 1] + sigmaJ*np.sqrt(dt[i - 1])*w2)\n",
    "    #st2 = price[1,i-1]*np.exp( (r - 0.5*sigmaJ**2)*(63/360) + sigmaJ*cor*np.sqrt(63/360)*w1 +\\\n",
    "    #    sigmaJ*np.sqrt(1-cor**2)*np.sqrt(63/360)*w2)\n",
    "    #assume proportional dividends\n",
    "    price[0,i] = st1 - st1*0.007511\n",
    "    price[1,i] = st2 - st2*0.007239\n",
    "#print(price[1,:,1000])\n",
    "#plt.plot(range(0,13),price[0,:,:])\n",
    "#plt.show()"
   ]
  },
  {
   "cell_type": "code",
   "execution_count": 19,
   "metadata": {
    "collapsed": true
   },
   "outputs": [],
   "source": [
    "redeem = np.zeros((num_path))    # 0 means not redeemed, 1 is redeemed\n",
    "for i in range(1,13):\n",
    "    for j in range(0,num_path):\n",
    "        if (i < 4):  #before redemption dates, only pay coupon\n",
    "        \n",
    "            if(price[0,i,j] >= 0.75*s01) and (price[1,i,j] >= 0.75*s02):\n",
    "                payoff[i,j] = 0.20875\n",
    "                \n",
    "        elif (i >= 4) and (i < 12) and (redeem[j] == 0) :   # now you can redeem,\n",
    "        \n",
    "            # redeem the security if both are above initial price\n",
    "            if(price[0,i,j] >= s01) and (price[1,i,j] >= s02):\n",
    "                payoff[i,j] = 10 + 0.20875\n",
    "                redeem[j] = 1\n",
    "            elif(price[0,i,j] >= 0.75*s01) and (price[1,i,j] >= 0.75*s02):\n",
    "                payoff[i,j] = 0.20875\n",
    "                \n",
    "        # payoff at maturity            \n",
    "        elif (redeem[j] == 0): \n",
    "            # both above downside threshold level:\n",
    "            if(price[0,i,j] >= 0.75*s01) and (price[1,i,j] >= 0.75*s02):\n",
    "                payoff[i,j] = 10 + 0.20875\n",
    "            # one is under\n",
    "            else: \n",
    "                #$10 x share performance factor of the worst performing stock\n",
    "                \n",
    "                payoff[i,j] = 10*np.minimum(price[0,i,j]/s01,price[1,i,j]/s02) \n",
    "\n",
    "\n",
    "            "
   ]
  },
  {
   "cell_type": "code",
   "execution_count": 20,
   "metadata": {},
   "outputs": [
    {
     "name": "stdout",
     "output_type": "stream",
     "text": [
      "[0.         0.2046608  0.18872816 0.17290596 2.97000745 0.69770846\n",
      " 0.45968285 0.34183794 0.26571923 0.22185611 0.18960927 0.15928943\n",
      " 3.4752672 ]\n"
     ]
    },
    {
     "data": {
      "text/plain": [
       "9.122961251139456"
      ]
     },
     "execution_count": 20,
     "metadata": {},
     "output_type": "execute_result"
    }
   ],
   "source": [
    "avg_payoff =  np.mean(payoff,axis = 1)       \n",
    "#print(payoff[0,5,1000:2000])\n",
    "print(avg_payoff) \n",
    "value = 0\n",
    "for i in range(1,13):\n",
    "    value += avg_payoff[i]*np.exp(-r*i*dt[i - 1])\n",
    "value         "
   ]
  },
  {
   "cell_type": "markdown",
   "metadata": {},
   "source": [
    "s01+1 :8.969688472279785 - 8.9643623186761\n",
    "s02+1 : 8.969688472279785 - 8.971507863511"
   ]
  },
  {
   "cell_type": "code",
   "execution_count": 132,
   "metadata": {},
   "outputs": [
    {
     "name": "stdout",
     "output_type": "stream",
     "text": [
      "ds1 0.0053261536036846024 ds2 -0.0018193912312156613\n"
     ]
    }
   ],
   "source": [
    "deltas1 = 8.969688472279785 - 8.9643623186761\n",
    "deltas2 = 8.969688472279785 - 8.971507863511\n",
    "print('ds1',deltas1,'ds2',deltas2)"
   ]
  },
  {
   "cell_type": "code",
   "execution_count": 133,
   "metadata": {
    "collapsed": true
   },
   "outputs": [],
   "source": [
    "# path = np.random.random_integers(0,10000)\n",
    "# print(path)\n",
    "# print('IBM',price[0,:,path])\n",
    "# print('JNJ',price[1,:,path])"
   ]
  },
  {
   "cell_type": "code",
   "execution_count": null,
   "metadata": {
    "collapsed": true
   },
   "outputs": [],
   "source": []
  }
 ],
 "metadata": {
  "kernelspec": {
   "display_name": "Python 3",
   "language": "python",
   "name": "python3"
  },
  "language_info": {
   "codemirror_mode": {
    "name": "ipython",
    "version": 3
   },
   "file_extension": ".py",
   "mimetype": "text/x-python",
   "name": "python",
   "nbconvert_exporter": "python",
   "pygments_lexer": "ipython3",
   "version": "3.6.3"
  }
 },
 "nbformat": 4,
 "nbformat_minor": 2
}
