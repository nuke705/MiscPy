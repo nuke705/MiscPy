{
 "cells": [
  {
   "cell_type": "code",
   "execution_count": 2,
   "metadata": {},
   "outputs": [
    {
     "name": "stdout",
     "output_type": "stream",
     "text": [
      "115.3800004139253\n"
     ]
    },
    {
     "data": {
      "text/plain": [
       "1.5955521770213093e-10"
      ]
     },
     "execution_count": 2,
     "metadata": {},
     "output_type": "execute_result"
    }
   ],
   "source": [
    "#a\n",
    "import numpy as np\n",
    "\n",
    "from scipy.stats import norm\n",
    "\n",
    "r = np.zeros((61,61))\n",
    "dt = 5/60\n",
    "pi = 0.5\n",
    "r[0,0]=0.02\n",
    "\n",
    "\n",
    "for i in range(61):\n",
    "    for j in range(i+1):\n",
    "        r[i,j]= 0.02*np.exp(0.5*(2*j-i)*np.sqrt(dt))\n",
    "print(r[60,60])        \n",
    "        \n",
    "ad = np.zeros((61,61))\n",
    "ad[0,0]=1\n",
    "for i in range(1,61):\n",
    "    for j in range(61):\n",
    "        if (j == 0) :\n",
    "            ad[i,j] = (1-pi)*ad[i-1,j]/(1+r[i-1,j]*dt)\n",
    "        elif (i == j):\n",
    "            ad[i,j] = pi*ad[i-1,j-1]/(1+r[i-1,j-1]*dt)\n",
    "        elif (j < i) and (j >0):\n",
    "            ad[i,j] = (1-pi)*ad[i-1,j]/(1+r[i-1,j]*dt) + pi*ad[i-1,j-1]/(1+r[i-1,j-1]*dt)\n",
    "\n",
    "r[60,60] \n",
    "ad[59,50]"
   ]
  },
  {
   "cell_type": "code",
   "execution_count": 3,
   "metadata": {},
   "outputs": [
    {
     "name": "stdout",
     "output_type": "stream",
     "text": [
      "price of 2- Year Caplets : 0.0020871747662341163\n"
     ]
    }
   ],
   "source": [
    "# b\n",
    "y2 = np.zeros((25,25))\n",
    "y2[24,:]=1\n",
    "for i in range(23,-1,-1):\n",
    "    for j in range(i,-1,-1):\n",
    "        y2[i,j] = 0.5*(y2[i+1,j+1] + y2[i+1,j])/(r[i,j]/12+1)\n",
    "        \n",
    "tm_libor_payoff = np.maximum(0,(1/(y2[21,0:22]) -1 )*4 - 0.02)\n",
    "y2p = np.sum(ad[21,0:22]*tm_libor_payoff)*0.25\n",
    "print('price of 2- Year Caplets :',y2p)"
   ]
  },
  {
   "cell_type": "code",
   "execution_count": 4,
   "metadata": {},
   "outputs": [
    {
     "name": "stdout",
     "output_type": "stream",
     "text": [
      "price of 3- Year Caplets : 0.00284890977148276\n"
     ]
    }
   ],
   "source": [
    "y3 = np.zeros((37,37))\n",
    "y3[36,:]=1\n",
    "for i in range(35,-1,-1):\n",
    "    for j in range(i,-1,-1):\n",
    "        y3[i,j] = 0.5*(y3[i+1,j+1] + y3[i+1,j])/(r[i,j]/12+1)\n",
    "        \n",
    "tm_libor_payoff_3y = np.maximum(0,(1/(y3[36-3,0:36-2]) -1 )*4 - 0.02)\n",
    "tm_libor_payoff_3y\n",
    "\n",
    "y3p = np.sum(ad[36-3,0:36-2]*tm_libor_payoff_3y)*0.25\n",
    "print('price of 3- Year Caplets :',y3p)"
   ]
  },
  {
   "cell_type": "code",
   "execution_count": 5,
   "metadata": {},
   "outputs": [
    {
     "name": "stdout",
     "output_type": "stream",
     "text": [
      "price of 5- Year Caplets : 0.004033882694288793\n"
     ]
    }
   ],
   "source": [
    "y5 = np.zeros((61,61))\n",
    "y5[60,:]=1\n",
    "for i in range(59,-1,-1):\n",
    "    for j in range(i,-1,-1):\n",
    "        y5[i,j] = 0.5*(y5[i+1,j+1] + y5[i+1,j])/(r[i,j]/12+1)\n",
    "        \n",
    "tm_libor_payoff_5y = np.maximum(0,(1/(y5[60-3,0:60-2]) -1 )*4 - 0.02)\n",
    "tm_libor_payoff_5y\n",
    "\n",
    "y5p = np.sum(ad[60-3,0:60-2]*tm_libor_payoff_5y)*0.25\n",
    "print('price of 5- Year Caplets :',y5p)"
   ]
  },
  {
   "cell_type": "code",
   "execution_count": 6,
   "metadata": {},
   "outputs": [
    {
     "data": {
      "text/plain": [
       "0.9376498018709878"
      ]
     },
     "execution_count": 6,
     "metadata": {},
     "output_type": "execute_result"
    }
   ],
   "source": [
    "#d\n",
    "se = np.zeros((61,61))\n",
    "se[60,:]=1.01125\n",
    "for i in range(59,-1,-1):\n",
    "    for j in range(i,-1,-1):\n",
    "        se[i,j] = 0.5*(se[i+1,j+1] + se[i+1,j])/(r[i,j]/12+1)\n",
    "        if(i == 30) or (i == 36) or(i == 42) or(i == 48) or (i == 54):\n",
    "            se[i,j] = se[i,j] + 0.01125\n",
    "            \n",
    "se[0,0]    "
   ]
  },
  {
   "cell_type": "code",
   "execution_count": 7,
   "metadata": {},
   "outputs": [
    {
     "name": "stdout",
     "output_type": "stream",
     "text": [
      "price of 2y European swaption : 0.011178192906389403\n"
     ]
    }
   ],
   "source": [
    "        \n",
    "se_payoff = np.maximum(0,se[24,0:24]-1)\n",
    "\n",
    "se_payoff\n",
    "sep = np.sum(ad[24,0:24]*se_payoff)\n",
    "print('price of 2y European swaption :',sep)"
   ]
  },
  {
   "cell_type": "code",
   "execution_count": 69,
   "metadata": {},
   "outputs": [
    {
     "data": {
      "text/plain": [
       "0.20312629367703258"
      ]
     },
     "execution_count": 69,
     "metadata": {},
     "output_type": "execute_result"
    }
   ],
   "source": [
    "#e\n",
    "\n",
    "sb = np.zeros((61,61))\n",
    "sb[60,:]=1.01125\n",
    "for i in range(59,-1,-1):\n",
    "    for j in range(i,-1,-1):\n",
    "        sb[i,j] = 0.5*(sb[i+1,j+1] + sb[i+1,j])/(r[i,j]/12+1)\n",
    "        if(i == 30) or (i == 36) or(i == 42)or(i == 48) or (i == 54)or (i == 24)or (i == 18)or (i == 12) or (i == 6):\n",
    "            sb[i,j] = sb[i,j] + 0.01125\n",
    "            \n",
    "sb[0,0]\n",
    "sb[24,24]"
   ]
  },
  {
   "cell_type": "code",
   "execution_count": 76,
   "metadata": {},
   "outputs": [],
   "source": [
    "sb_24 = np.maximum(0,sb[24,0:25]-0.5*0.0225-1)\n",
    "#print(sb_24)\n",
    "sb_18 = np.maximum(0,sb[18,0:19]-0.0225/2-1)\n",
    "sb_18.shape\n",
    "sb_12 = np.maximum(0,sb[12,0:13]-0.0225/2-1)\n",
    "sb_12.shape\n",
    "sb_6 = np.maximum(0,sb[6,0:7]-0.0225/2-1)\n"
   ]
  },
  {
   "cell_type": "code",
   "execution_count": 79,
   "metadata": {},
   "outputs": [
    {
     "name": "stdout",
     "output_type": "stream",
     "text": [
      "price of 2y Bermudan swaption: 0.013800960579479622\n"
     ]
    }
   ],
   "source": [
    "\n",
    "poff = np.zeros((25,25))\n",
    "#print(poff[24,:].shape)\n",
    "poff[24,:]=sb_24\n",
    "for i in range(23,-1,-1):\n",
    "    for j in range(i,-1,-1):\n",
    "        poff[i,j] = 0.5*(poff[i+1,j+1] + poff[i+1,j])/(r[i,j]/12+1)\n",
    "        if(i == 18):\n",
    "            poff[i,j] = np.maximum(poff[i,j], sb_18[j])\n",
    "        if(i == 12):\n",
    "            poff[i,j] = np.maximum(poff[i,j], sb_12[j])\n",
    "        if(i == 6):\n",
    "            poff[i,j] = np.maximum(poff[i,j], sb_6[j])\n",
    "            \n",
    "print('price of 2y Bermudan swaption:',poff[0,0])"
   ]
  },
  {
   "cell_type": "code",
   "execution_count": null,
   "metadata": {
    "collapsed": true
   },
   "outputs": [],
   "source": []
  }
 ],
 "metadata": {
  "kernelspec": {
   "display_name": "Python 3",
   "language": "python",
   "name": "python3"
  },
  "language_info": {
   "codemirror_mode": {
    "name": "ipython",
    "version": 3
   },
   "file_extension": ".py",
   "mimetype": "text/x-python",
   "name": "python",
   "nbconvert_exporter": "python",
   "pygments_lexer": "ipython3",
   "version": "3.6.3"
  }
 },
 "nbformat": 4,
 "nbformat_minor": 2
}
