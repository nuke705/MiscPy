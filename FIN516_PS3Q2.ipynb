{
 "cells": [
  {
   "cell_type": "code",
   "execution_count": 1,
   "metadata": {},
   "outputs": [
    {
     "name": "stdout",
     "output_type": "stream",
     "text": [
      "the bond price with out call feature is 991.4689174960572\n"
     ]
    }
   ],
   "source": [
    "import numpy as np\n",
    "\n",
    "from scipy.stats import norm\n",
    "\n",
    "r = np.zeros((61,61))\n",
    "dt = 5/60\n",
    "pi = 0.5\n",
    "r[0,0]=0.0275\n",
    "\n",
    "for i in range(61):\n",
    "    for j in range(i+1):\n",
    "        r[i,j]= 0.0275*np.exp(0.6*(2*j-i)*np.sqrt(dt))\n",
    "#print(r[60,60])        \n",
    "        \n",
    "v = np.zeros((61,61))\n",
    "v[60,:]=1000 + 1000*0.05/2\n",
    "for i in range(59,-1,-1):\n",
    "    for j in range(i,-1,-1):\n",
    "            v[i,j] = 0.5*(v[i+1,j+1] + v[i+1,j])/(1 + r[i,j]/12) \n",
    "            \n",
    "            if(i == 54):\n",
    "                v[i,j] = v[i,j] + 1000*0.025\n",
    "            elif(i == 42 ) or (i==48):\n",
    "                v[i,j] = v[i,j] + 1000*0.02\n",
    "            elif(i == 30) or (i == 36) :\n",
    "                v[i,j] = v[i,j] + 1000*0.0175\n",
    "            elif(i == 6) or (i == 12) or (i == 18) or (i == 24):\n",
    "                v[i,j] = v[i,j] + 1000*0.033/2\n",
    "               \n",
    "            #endif\n",
    "        #endif\n",
    "    #endfor\n",
    "#endfor\n",
    "print('the bond price with out call feature is',v[0,0])\n",
    "        "
   ]
  },
  {
   "cell_type": "code",
   "execution_count": 18,
   "metadata": {},
   "outputs": [
    {
     "data": {
      "text/plain": [
       "950.4723564269358"
      ]
     },
     "execution_count": 18,
     "metadata": {},
     "output_type": "execute_result"
    }
   ],
   "source": [
    "vc = np.zeros((61,61))\n",
    "vc[60,:]=1000 + 1000*0.05/2\n",
    "for i in range(59,-1,-1):\n",
    "    for j in range(i,-1,-1):\n",
    "        vc[i,j]=(vc[i+1,j+1]+vc[i+1,j])/2/(1+r[i,j]*5/60)\n",
    "        \n",
    "        if(i == 54):\n",
    "            vc[i,j] = np.minimum(1000,vc[i,j]) + 1000*0.025\n",
    "        \n",
    "        elif(i == 42 ) or (i==48):\n",
    "            vc[i,j] = np.minimum(1000,vc[i,j]) + 1000*0.02\n",
    "            \n",
    "        elif(i == 30) or (i == 36) :\n",
    "            vc[i,j] = np.minimum(1000,vc[i,j]) + 1000*0.0175\n",
    "            \n",
    "        elif(i == 12) or (i == 18) or (i == 24):\n",
    "            vc[i,j] = np.minimum(1000,vc[i,j]) + 1000*0.033/2\n",
    "        elif(i == 6):\n",
    "            vc[i,j] = vc[i,j]+ 1000*0.033/2\n",
    "vc[0,0]   "
   ]
  },
  {
   "cell_type": "markdown",
   "metadata": {},
   "source": [
    "The callable bond is cheaper than the normal bond \n",
    "because the buyer of the callable bond actually sells an option to the issuer which makes the price cheaper."
   ]
  },
  {
   "cell_type": "code",
   "execution_count": null,
   "metadata": {
    "collapsed": true
   },
   "outputs": [],
   "source": []
  }
 ],
 "metadata": {
  "kernelspec": {
   "display_name": "Python 3",
   "language": "python",
   "name": "python3"
  },
  "language_info": {
   "codemirror_mode": {
    "name": "ipython",
    "version": 3
   },
   "file_extension": ".py",
   "mimetype": "text/x-python",
   "name": "python",
   "nbconvert_exporter": "python",
   "pygments_lexer": "ipython3",
   "version": "3.6.3"
  }
 },
 "nbformat": 4,
 "nbformat_minor": 2
}
