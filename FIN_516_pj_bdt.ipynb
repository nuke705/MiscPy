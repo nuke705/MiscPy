{
 "cells": [
  {
   "cell_type": "code",
   "execution_count": 10,
   "metadata": {
    "collapsed": true
   },
   "outputs": [],
   "source": [
    "import numpy as np\n",
    "from scipy import signal\n",
    "import math\n",
    "import time\n",
    "import copy\n",
    "from random import randint\n",
    "from scipy import optimize as opt\n",
    "from scipy.stats import norm\n",
    "from scipy.interpolate import interp1d\n",
    "import pylab as pl"
   ]
  },
  {
   "cell_type": "code",
   "execution_count": 11,
   "metadata": {
    "collapsed": true
   },
   "outputs": [],
   "source": [
    "import pandas as pd\n",
    "fd = pd.read_csv('E:/study/FIN-516/data_2.csv')"
   ]
  },
  {
   "cell_type": "code",
   "execution_count": 12,
   "metadata": {},
   "outputs": [
    {
     "data": {
      "text/plain": [
       "array([1.        , 0.99357977, 0.98651179, 0.97931779, 0.97189891,\n",
       "       0.9644466 , 0.95712165, 0.95001584, 0.94305276, 0.9361712 ,\n",
       "       0.92950297, 0.92282553, 0.9161419 , 0.90961704, 0.90345529,\n",
       "       0.8972356 , 0.89096215, 0.88491562, 0.87901314, 0.87305965,\n",
       "       0.86724789, 0.86138259, 0.85565333, 0.84999466, 0.84434424,\n",
       "       0.83868379, 0.8332117 , 0.82774254, 0.82227784, 0.8168129 ,\n",
       "       0.81152803, 0.80624428, 0.8009632 , 0.79569612, 0.79059768,\n",
       "       0.785502  , 0.7804105 , 0.77528472, 0.77038867, 0.76542963,\n",
       "       0.76058538, 0.75569174, 0.75095883, 0.74622644, 0.74149593,\n",
       "       0.73686498, 0.73238749, 0.7279117 , 0.72343883, 0.71905335,\n",
       "       0.71481392, 0.71057673, 0.70634287, 0.70215895, 0.69806939,\n",
       "       0.69402755, 0.68999007, 0.68595436, 0.68214074, 0.67828451,\n",
       "       0.67438828, 0.6706499 , 0.66699691, 0.66330331, 0.65969395,\n",
       "       0.6560872 , 0.65260034, 0.64911497, 0.6456319 , 0.64218939,\n",
       "       0.63882396, 0.63549715, 0.63217221, 0.62888567, 0.62570778,\n",
       "       0.62253064, 0.61935496, 0.61621541, 0.61317972, 0.61014421,\n",
       "       0.6071094 ])"
      ]
     },
     "execution_count": 12,
     "metadata": {},
     "output_type": "execute_result"
    }
   ],
   "source": [
    "fd\n",
    "# zero_cbp=fd['P(0,T)']\n",
    "# p0t=np.zeros(61)\n",
    "# for i in range(0,61,3):p0t[i]=zero_cbp[i/3]\n",
    "# p0t\n",
    "p0t = np.asarray(fd['P0t'])\n",
    "p0t"
   ]
  },
  {
   "cell_type": "code",
   "execution_count": 13,
   "metadata": {
    "collapsed": true
   },
   "outputs": [],
   "source": [
    "# for i in range(20):\n",
    "#     p0t[(i*3):(i*3+4)]=np.linspace(p0t[(i*3)],p0t[(i*3+3)],4)"
   ]
  },
  {
   "cell_type": "code",
   "execution_count": 14,
   "metadata": {},
   "outputs": [
    {
     "data": {
      "text/plain": [
       "0.025763705212925005"
      ]
     },
     "execution_count": 14,
     "metadata": {},
     "output_type": "execute_result"
    }
   ],
   "source": [
    "dt=1/4\n",
    "#\n",
    "r=np.zeros((81,81))\n",
    "r[0,0]=-math.log(p0t[1])/dt\n",
    "#\n",
    "pi=np.zeros((81,81)) \n",
    "pi[0,0]=1\n",
    "#\n",
    "u=np.zeros((1,81))\n",
    "u[0,0]=r[0,0]\n",
    "u[0,0]"
   ]
  },
  {
   "cell_type": "code",
   "execution_count": 15,
   "metadata": {},
   "outputs": [
    {
     "data": {
      "text/plain": [
       "array([0.141     , 0.141     , 0.141     , 0.14099999, 0.141     ,\n",
       "       0.16104726, 0.17197675, 0.18343948, 0.19484573, 0.20233944,\n",
       "       0.21269898, 0.22301789, 0.23346243, 0.24249379, 0.25630775,\n",
       "       0.26497697, 0.27370934, 0.25142561, 0.25798561, 0.2609581 ,\n",
       "       0.26754581, 0.28112003, 0.28821592, 0.29476967, 0.30048518,\n",
       "       0.23350115, 0.23246204, 0.23170285, 0.23096172, 0.27450265,\n",
       "       0.27824542, 0.28084869, 0.28338079, 0.24107442, 0.24066051,\n",
       "       0.2402461 , 0.23983789, 0.23488434, 0.2334195 , 0.23342114,\n",
       "       0.23232129, 0.22745442, 0.22608485, 0.2252662 , 0.22441907,\n",
       "       0.22340225, 0.2219765 , 0.2211648 , 0.22032385, 0.22642761,\n",
       "       0.22545975, 0.22493508, 0.22440863, 0.22372793, 0.22288609,\n",
       "       0.22220159, 0.22151633, 0.22132563, 0.21958098, 0.21944529,\n",
       "       0.21925593, 0.2300533 , 0.22964509, 0.22979269, 0.22938744,\n",
       "       0.22922733, 0.22887271, 0.22871529, 0.22855699, 0.22833085,\n",
       "       0.22803456, 0.22780715, 0.22765121, 0.22742233, 0.22704196,\n",
       "       0.22688957, 0.22673605, 0.22642607, 0.22619401, 0.22596131,\n",
       "       0.22571462])"
      ]
     },
     "execution_count": 15,
     "metadata": {},
     "output_type": "execute_result"
    }
   ],
   "source": [
    "sigma=np.zeros((1,81))\n",
    "# fd = pd.read_csv('Desktop/capletsigma.csv')\n",
    "# capletsigma=fd['IV']\n",
    "# sigma[0,0:12]=capletsigma[2]\n",
    "sigma = np.asarray(fd['Strip_vol'])\n",
    "sigma"
   ]
  },
  {
   "cell_type": "code",
   "execution_count": 16,
   "metadata": {
    "collapsed": true
   },
   "outputs": [],
   "source": [
    "# for i in range(5,21,1):\n",
    "#     sigma[0,((i-1)*3):(i*3)]=capletsigma[i]"
   ]
  },
  {
   "cell_type": "code",
   "execution_count": 17,
   "metadata": {
    "collapsed": true
   },
   "outputs": [],
   "source": [
    "def find_u(p0t,pi,u,sigma,i):\n",
    "    estimate=0\n",
    "    #print(pi)\n",
    "    for j in range(len(pi)):\n",
    "        #print(estimate)\n",
    "        estimate=estimate+pi[j]*math.exp(-u*dt*math.exp((2*j-i)*math.sqrt(dt)*sigma))\n",
    "    \n",
    "    return (p0t-estimate)**2\n"
   ]
  },
  {
   "cell_type": "code",
   "execution_count": 18,
   "metadata": {
    "collapsed": true
   },
   "outputs": [],
   "source": [
    "for i in range(1,80):\n",
    "    for j in range(i+1):\n",
    "        if j==0: \n",
    "            pi[i,j]=0.5*pi[i-1,j]*math.exp(-r[i-1,j]*dt)\n",
    "        else:\n",
    "            pi[i,j]=0.5*pi[i-1,j]*math.exp(-r[i-1,j]*dt)+0.5*pi[i-1,j-1]*math.exp(-r[i-1,j-1]*dt)\n",
    "    #print(i,j)\n",
    "    a=opt.minimize(lambda u: find_u(p0t[i+1],pi[i,:],u,sigma[i],i),0.01, method='BFGS', tol=1e-16)\n",
    "    u[0,i]=a.x\n",
    "    for j in range(i+1):\n",
    "        r[i,j]=u[0,i]*math.exp((2*j-i)*sigma[i]*math.sqrt(dt))\n",
    "#u"
   ]
  },
  {
   "cell_type": "code",
   "execution_count": 19,
   "metadata": {
    "collapsed": true
   },
   "outputs": [],
   "source": [
    "#caplet_p=fd['Caplet price, maturity T+t']\n",
    "#caplet_p\n",
    "caplet_k=fd['Strike']\n",
    "#caplet_k"
   ]
  },
  {
   "cell_type": "code",
   "execution_count": 20,
   "metadata": {
    "collapsed": true
   },
   "outputs": [],
   "source": [
    "def caplet(S,K,sigma,T,P,N,tau):\n",
    "    d1=(np.log(S/K)+0.5*sigma**2*T)/(sigma*np.sqrt(T))\n",
    "    d2=(np.log(S/K)-0.5*sigma**2*T)/(sigma*np.sqrt(T))\n",
    "    V=N*tau*P*(S*norm.cdf(d1)-K*norm.cdf(d2))\n",
    "    return (V)\n",
    "\n",
    "def find_cap_vol(sigma,args):\n",
    "    price=args[0]\n",
    "    S=args[1]\n",
    "    K=args[2]\n",
    "    T=args[3]\n",
    "    P=args[4]\n",
    "    N=args[5]\n",
    "    tau=args[6]\n",
    "    cap_price=caplet(S,K,sigma,T,P,N,tau)\n",
    "    return (cap_price-price)**2"
   ]
  },
  {
   "cell_type": "code",
   "execution_count": 21,
   "metadata": {},
   "outputs": [
    {
     "data": {
      "text/plain": [
       "80"
      ]
     },
     "execution_count": 21,
     "metadata": {},
     "output_type": "execute_result"
    }
   ],
   "source": [
    "# caplet_estimate=[]\n",
    "# for i in range(2,80):\n",
    "#     f=(pi[(i-1)*3,:].sum(axis=0)/pi[i*3,:].sum(axis=0)-1)*4\n",
    "#     p=pi[i*3,:].sum(axis=0)\n",
    "#     caplet_estimate.append(caplet(f,caplet_k[i],sigma[(i-1)*3],(i-1)*3*dt,p,1,0.25))\n",
    "\n",
    "caplet_estimate=[]\n",
    "caplet_estimate.append(0.00019874824)\n",
    "caplet_estimate.append(0.00019874824)\n",
    "for i in range(2,80):\n",
    "    f=(pi[(i-1),:].sum(axis=0)/pi[i,:].sum(axis=0)-1)*4\n",
    "    p=pi[i,:].sum(axis=0)\n",
    "    caplet_estimate.append(caplet(f,caplet_k[i],sigma[(i-1)],(i-1)*dt,p,1,0.25))\n",
    "\n",
    "\n",
    "caplet_estimate.__len__()\n",
    "\n",
    "#caplet_p"
   ]
  },
  {
   "cell_type": "code",
   "execution_count": 22,
   "metadata": {
    "collapsed": true
   },
   "outputs": [],
   "source": [
    "caplet_p = caplet_estimate\n",
    "new_sig=[]\n",
    "new_sig.append(0.141)\n",
    "new_sig.append(0.141)\n",
    "new_sig.append(0.141)\n",
    "for i in range(2,80):\n",
    "    f=(pi[(i-1),:].sum(axis=0)/pi[i,:].sum(axis=0)-1)*4\n",
    "    p=pi[i,:].sum(axis=0)\n",
    "    #print(i)\n",
    "    args=[caplet_p[i],f,caplet_k[i],i*dt,p,1,0.25]\n",
    "    temp=opt.minimize(lambda sigma: find_cap_vol(sigma,args),0.4, method='BFGS', tol=1e-16)\n",
    "    new_sig.append(temp.x[0])"
   ]
  },
  {
   "cell_type": "code",
   "execution_count": 23,
   "metadata": {
    "collapsed": true
   },
   "outputs": [],
   "source": [
    "#new_sig\n",
    "# sigma[0,0:12]=new_sig[1]\n",
    "# for i in range(5,21,1):\n",
    "#     sigma[0,((i-1)*3):(i*3)]=capletsigma[i]\n",
    "# print(sigma.__len__())\n",
    "# print(new_sig.__len__())\n",
    "# print(sigma)\n",
    "# print(new_sig)"
   ]
  },
  {
   "cell_type": "code",
   "execution_count": 24,
   "metadata": {
    "collapsed": true
   },
   "outputs": [],
   "source": [
    "# for i in range(1,80):\n",
    "#     for j in range(i+1):\n",
    "#         if j==0: \n",
    "#             pi[i,j]=0.5*pi[i-1,j]*math.exp(-r[i-1,j]*dt)\n",
    "#         else:\n",
    "#             pi[i,j]=0.5*pi[i-1,j]*math.exp(-r[i-1,j]*dt)+0.5*pi[i-1,j-1]*math.exp(-r[i-1,j-1]*dt)\n",
    "#     #a=opt.minimize(lambda u: find_u(p0t[i+1],pi[i,:],u,sigma[0,i],i),0.4, method='BFGS', tol=1e-16)\n",
    "#     #u[0,i]=a.x\n",
    "#     for j in range(i+1):\n",
    "#         r[i,j]=u[0,i]*math.exp((2*j-i)*sigma[0,i]*math.sqrt(dt))\n",
    "      \n",
    "\n",
    "# i=80\n",
    "# for j in range(i+1):\n",
    "#     if j==0: \n",
    "#         pi[i,j]=0.5*pi[i-1,j]*math.exp(-r[i-1,j]*dt)\n",
    "#     else:\n",
    "#         pi[i,j]=0.5*pi[i-1,j]*math.exp(-r[i-1,j]*dt)+0.5*pi[i-1,j-1]*math.exp(-r[i-1,j-1]*dt)\n",
    "# p=[]\n",
    "# for i in range(61):\n",
    "#     p.append(pi[i,:].sum(axis=0))\n",
    "\n",
    "# error=p-p0t\n",
    "# error"
   ]
  },
  {
   "cell_type": "code",
   "execution_count": 25,
   "metadata": {
    "collapsed": true
   },
   "outputs": [],
   "source": [
    "for i in range(1,80):\n",
    "    for j in range(i+1):\n",
    "        if j==0: \n",
    "            pi[i,j]=0.5*pi[i-1,j]*math.exp(-r[i-1,j]*dt)\n",
    "        else:\n",
    "            pi[i,j]=0.5*pi[i-1,j]*math.exp(-r[i-1,j]*dt)+0.5*pi[i-1,j-1]*math.exp(-r[i-1,j-1]*dt)\n",
    "    a=opt.minimize(lambda u: find_u(p0t[i+1],pi[i,:],u,new_sig[i],i),0.01, method='BFGS', tol=1e-16)\n",
    "    u[0,i]=a.x\n",
    "    for j in range(i+1):\n",
    "        r[i,j]=u[0,i]*math.exp((2*j-i)*new_sig[i]*math.sqrt(dt))\n",
    "      "
   ]
  },
  {
   "cell_type": "code",
   "execution_count": 26,
   "metadata": {
    "collapsed": true
   },
   "outputs": [],
   "source": [
    "i=80\n",
    "for j in range(i+1):\n",
    "    if j==0: \n",
    "        pi[i,j]=0.5*pi[i-1,j]*math.exp(-r[i-1,j]*dt)\n",
    "    else:\n",
    "        pi[i,j]=0.5*pi[i-1,j]*math.exp(-r[i-1,j]*dt)+0.5*pi[i-1,j-1]*math.exp(-r[i-1,j-1]*dt)\n",
    "p=[]\n",
    "for i in range(81):\n",
    "    p.append(pi[i,:].sum(axis=0))"
   ]
  },
  {
   "cell_type": "code",
   "execution_count": 39,
   "metadata": {},
   "outputs": [],
   "source": [
    "error=p-p0t\n",
    "error\n",
    "#np.savetxt(\"uu.csv\", u, delimiter=\",\")\n",
    "# np.savetxt(\"rtree1.csv\", np.flip(r.transpose(),axis=0), delimiter=\",\")\n",
    "# np.savetxt(\"pp1.csv\", p, delimiter=\",\")\n",
    "#np.savetxt(\"pi.csv\", np.flip(pi.transpose(),axis=0), delimiter=\",\")\n",
    "p = np.asarray(p)\n",
    "#p[4:8].sum()"
   ]
  },
  {
   "cell_type": "code",
   "execution_count": 49,
   "metadata": {},
   "outputs": [
    {
     "data": {
      "text/plain": [
       "0.0033408069730958075"
      ]
     },
     "execution_count": 49,
     "metadata": {},
     "output_type": "execute_result"
    }
   ],
   "source": [
    "# # swaprate=0.029316032\n",
    "\n",
    "# # vol=0.2569\n",
    "# def swaption(S,K,sigma,T,tn):\n",
    "#     d1=(np.log(S/K)+0.5*sigma**2*T)/(sigma*np.sqrt(T))\n",
    "#     d2=(np.log(S/K)-0.5*sigma**2*T)/(sigma*np.sqrt(T))\n",
    "#     fixed_leg = p[T:T+tn].sum()\n",
    "#     V=(-S*norm.cdf(-d1)+K*norm.cdf(-d2))*fixed_leg\n",
    "#     return (V)\n",
    "\n",
    "\n",
    "# strike = [0.00630327202255,\n",
    "#     0.0121836566202,\n",
    "#     0.0176857705887,\n",
    "#     0.022867656702,\n",
    "#     0.0278724131908,\n",
    "#     0.00604542339332,\n",
    "#     0.011701959619,\n",
    "#     0.0170292804789,\n",
    "#     0.0221745003964,\n",
    "#     0.0271316342751]   \n",
    "# vols = [0.1737,0.2064,0.2145,0.2145,0.213,0.2108,0.2364,0.2365,0.2427,0.2328]\n",
    "# tn = [4,8,12,16,20]\n",
    "    \n",
    "# v11 = swaption(strike[0],strike[0],vols[0],4,tn[0])\n",
    "# v11"
   ]
  },
  {
   "cell_type": "code",
   "execution_count": 40,
   "metadata": {},
   "outputs": [
    {
     "ename": "NameError",
     "evalue": "name 'vol' is not defined",
     "output_type": "error",
     "traceback": [
      "\u001b[1;31m---------------------------------------------------------------------------\u001b[0m",
      "\u001b[1;31mNameError\u001b[0m                                 Traceback (most recent call last)",
      "\u001b[1;32m<ipython-input-40-28bbfad06a2a>\u001b[0m in \u001b[0;36m<module>\u001b[1;34m()\u001b[0m\n\u001b[0;32m     23\u001b[0m \u001b[0mtn\u001b[0m \u001b[1;33m=\u001b[0m \u001b[1;33m[\u001b[0m\u001b[1;36m4\u001b[0m\u001b[1;33m,\u001b[0m\u001b[1;36m8\u001b[0m\u001b[1;33m,\u001b[0m\u001b[1;36m12\u001b[0m\u001b[1;33m,\u001b[0m\u001b[1;36m16\u001b[0m\u001b[1;33m,\u001b[0m\u001b[1;36m20\u001b[0m\u001b[1;33m]\u001b[0m\u001b[1;33m\u001b[0m\u001b[0m\n\u001b[0;32m     24\u001b[0m \u001b[1;33m\u001b[0m\u001b[0m\n\u001b[1;32m---> 25\u001b[1;33m \u001b[0mv11\u001b[0m \u001b[1;33m=\u001b[0m \u001b[0mswaption\u001b[0m\u001b[1;33m(\u001b[0m\u001b[0mstrike\u001b[0m\u001b[1;33m[\u001b[0m\u001b[1;36m0\u001b[0m\u001b[1;33m]\u001b[0m\u001b[1;33m,\u001b[0m\u001b[0mstrike\u001b[0m\u001b[1;33m[\u001b[0m\u001b[1;36m0\u001b[0m\u001b[1;33m]\u001b[0m\u001b[1;33m,\u001b[0m\u001b[0mvol\u001b[0m\u001b[1;33m[\u001b[0m\u001b[1;36m0\u001b[0m\u001b[1;33m]\u001b[0m\u001b[1;33m)\u001b[0m\u001b[1;33m\u001b[0m\u001b[0m\n\u001b[0m\u001b[0;32m     26\u001b[0m \u001b[0mv12\u001b[0m\u001b[1;33m\u001b[0m\u001b[0m\n\u001b[0;32m     27\u001b[0m \u001b[0mv12\u001b[0m\u001b[1;33m\u001b[0m\u001b[0m\n",
      "\u001b[1;31mNameError\u001b[0m: name 'vol' is not defined"
     ]
    }
   ],
   "source": [
    "# v12 = swaption(strike[0],strike[0],vol[0],4,tn[0])\n",
    "# v13 = swaption(strike[0],strike[0],vol[0],4,tn[0])\n",
    "# v14 = swaption(strike[0],strike[0],vol[0],4,tn[0])\n",
    "# v15 = swaption(strike[0],strike[0],vol[0],4,tn[0])\n",
    "# v21 = swaption(strike[0],strike[0],vol[0],4,tn[0])\n",
    "# v22 = swaption(strike[0],strike[0],vol[0],4,tn[0])\n",
    "# v23 = swaption(strike[0],strike[0],vol[0],4,tn[0])\n",
    "# v24 = swaption(strike[0],strike[0],vol[0],4,tn[0])\n",
    "# v25\n",
    "# fixed_leg=0.25*(pi[30,:].sum(axis=0)+pi[33,:].sum(axis=0)+pi[36,:].sum(axis=0)+\n",
    "#                pi[42,:].sum(axis=0)+pi[45,:].sum(axis=0)+pi[48,:].sum(axis=0)+\n",
    "#                pi[51,:].sum(axis=0)+pi[54,:].sum(axis=0)+pi[57,:].sum(axis=0)+pi[60,:].sum(axis=0))\n",
    "# swaption_p=swaption(0.029316032,0.029316032,vol,2,fixed_leg,1,0.25)\n",
    "# swaption_p\n",
    "\n",
    "# value=np.zeros((61,61))\n",
    "# coupon=1*swaprate/4\n",
    "# value[60,:]=1+coupon\n",
    "# for i in range(59,23,-1):\n",
    "#     for j in range(i,-1,-1):\n",
    "#         value[i,j]=(value[i+1,j+1]+value[i+1,j])/2/(1+r[i,j]*dt) \n",
    "#         if (i%3==0): \n",
    "#             value[i,j]=value[i,j]+coupon\n",
    "# value[24,0:24]=value[24,0:24]-coupon\n",
    "\n",
    "# i=24\n",
    "# for j in range(24,-1,-1):\n",
    "#     value[i,j]=max(1-value[i,j],0) \n",
    "\n",
    "\n",
    "# for i in range(23,-1,-1):\n",
    "#     for j in range(i,-1,-1):\n",
    "#         value[i,j]=(value[i+1,j+1]+value[i+1,j])/2/(1+r[i,j]*dt) \n",
    "\n",
    "# value[0,0]\n",
    "\n",
    "# value[24,:]\n",
    "\n",
    "# value[24,0:24]"
   ]
  },
  {
   "cell_type": "code",
   "execution_count": null,
   "metadata": {
    "collapsed": true
   },
   "outputs": [],
   "source": []
  }
 ],
 "metadata": {
  "kernelspec": {
   "display_name": "Python 3",
   "language": "python",
   "name": "python3"
  },
  "language_info": {
   "codemirror_mode": {
    "name": "ipython",
    "version": 3
   },
   "file_extension": ".py",
   "mimetype": "text/x-python",
   "name": "python",
   "nbconvert_exporter": "python",
   "pygments_lexer": "ipython3",
   "version": "3.6.3"
  }
 },
 "nbformat": 4,
 "nbformat_minor": 2
}
