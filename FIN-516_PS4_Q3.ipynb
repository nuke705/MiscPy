{
 "cells": [
  {
   "cell_type": "code",
   "execution_count": 1,
   "metadata": {},
   "outputs": [
    {
     "name": "stdout",
     "output_type": "stream",
     "text": [
      "P(0,1) =  0.9958304019725014\n",
      "R(0,1) =  0.004178315040753216\n"
     ]
    }
   ],
   "source": [
    "import numpy as np\n",
    "\n",
    "theta = 0.02\n",
    "k=0.1\n",
    "sig = 0.1\n",
    "\n",
    "\n",
    "def pt(r0,T):\n",
    "    bt = (1-np.exp(-k*T))/k\n",
    "    at = np.exp((theta - sig**2/(2*k**2))*(bt - T) - (sig**2/(4*k))*bt**2)\n",
    "    return at*np.exp(-bt*r0)\n",
    "\n",
    "def Rt(r0,T):\n",
    "    bt = (1-np.exp(-k*T))/k\n",
    "    at = np.exp((theta - sig**2/(2*k**2))*(bt - T) - (sig**2/(4*k))*bt**2)\n",
    "    return -np.log(at)/T + bt/T*r0\n",
    "    \n",
    "pt1 = pt(0.005,1)\n",
    "print('P(0,1) = ',pt1)\n",
    "print('R(0,1) = ',Rt(0.005,1))"
   ]
  },
  {
   "cell_type": "code",
   "execution_count": 2,
   "metadata": {},
   "outputs": [
    {
     "name": "stdout",
     "output_type": "stream",
     "text": [
      "P(0,5) =  1.1102979416864096\n",
      "R(0,5) =  -0.02092567904816666\n"
     ]
    }
   ],
   "source": [
    "pt5 = pt(0.005,5)\n",
    "print('P(0,5) = ',pt5)\n",
    "print('R(0,5) = ',Rt(0.005,5))"
   ]
  },
  {
   "cell_type": "code",
   "execution_count": 3,
   "metadata": {},
   "outputs": [
    {
     "name": "stdout",
     "output_type": "stream",
     "text": [
      "P(0,10) =  2.0860540924932174\n",
      "R(0,10) =  -0.0735274287447175\n"
     ]
    }
   ],
   "source": [
    "pt10 = pt(0.005,10)\n",
    "print('P(0,10) = ',pt10)\n",
    "print('R(0,10) = ',Rt(0.005,10))"
   ]
  },
  {
   "cell_type": "code",
   "execution_count": 4,
   "metadata": {},
   "outputs": [
    {
     "name": "stdout",
     "output_type": "stream",
     "text": [
      "P(0,20) =  34.372727429476605\n",
      "R(0,20) =  -0.17686317213293995\n"
     ]
    }
   ],
   "source": [
    "pt20 = pt(0.005,20)\n",
    "print('P(0,20) = ',pt20)\n",
    "print('R(0,20) = ',Rt(0.005,20))"
   ]
  },
  {
   "cell_type": "code",
   "execution_count": 5,
   "metadata": {},
   "outputs": [
    {
     "name": "stdout",
     "output_type": "stream",
     "text": [
      "P(0,30) =  1870.9577471372202\n",
      "R(0,30) =  -0.2511401914327265\n"
     ]
    }
   ],
   "source": [
    "pt30 = pt(0.005,30)\n",
    "print('P(0,30) = ',pt30)\n",
    "print('R(0,30) = ',Rt(0.005,30))"
   ]
  },
  {
   "cell_type": "code",
   "execution_count": 6,
   "metadata": {},
   "outputs": [
    {
     "name": "stdout",
     "output_type": "stream",
     "text": [
      "When r0 = 0.004\n",
      "R(0,1) =  0.003226689221112811\n",
      "R(0,5) =  -0.021712617728741397\n",
      "R(0,10) =  -0.07415954930354607\n",
      "R(0,20) =  -0.17729550449132164\n",
      "R(0,30) =  -0.25145692907660383\n"
     ]
    }
   ],
   "source": [
    "print('When r0 = 0.004')\n",
    "print('R(0,1) = ',Rt(0.004,1))\n",
    "print('R(0,5) = ',Rt(0.004,5))\n",
    "print('R(0,10) = ',Rt(0.004,10))\n",
    "print('R(0,20) = ',Rt(0.004,20))\n",
    "print('R(0,30) = ',Rt(0.004,30))"
   ]
  },
  {
   "cell_type": "code",
   "execution_count": 7,
   "metadata": {},
   "outputs": [
    {
     "name": "stdout",
     "output_type": "stream",
     "text": [
      "When r0 = 0.006\n",
      "R(0,1) =  0.00512994086039362\n",
      "R(0,5) =  -0.02013874036759193\n",
      "R(0,10) =  -0.07289530818588895\n",
      "R(0,20) =  -0.17643083977455826\n",
      "R(0,30) =  -0.25082345378884907\n"
     ]
    }
   ],
   "source": [
    "print('When r0 = 0.006')\n",
    "print('R(0,1) = ',Rt(0.006,1))\n",
    "print('R(0,5) = ',Rt(0.006,5))\n",
    "print('R(0,10) = ',Rt(0.006,10))\n",
    "print('R(0,20) = ',Rt(0.006,20))\n",
    "print('R(0,30) = ',Rt(0.006,30))"
   ]
  },
  {
   "cell_type": "code",
   "execution_count": 12,
   "metadata": {},
   "outputs": [
    {
     "name": "stdout",
     "output_type": "stream",
     "text": [
      "[0.10042858] [0.10021139] [0.09999862]\n"
     ]
    }
   ],
   "source": [
    "r004 = [Rt(0.004,1),Rt(0.004,5),Rt(0.004,10),Rt(0.004,20),Rt(0.004,30)]\n",
    "r005 = [Rt(0.005,1),Rt(0.005,5),Rt(0.005,10),Rt(0.005,20),Rt(0.005,30)]\n",
    "r006 = [Rt(0.006,1),Rt(0.006,5),Rt(0.006,10),Rt(0.006,20),Rt(0.006,30)]\n",
    "\n",
    "print(np.correlate(r004,r005),\n",
    "np.correlate(r004,r006),\n",
    "np.correlate(r005,r006))"
   ]
  },
  {
   "cell_type": "code",
   "execution_count": null,
   "metadata": {
    "collapsed": true
   },
   "outputs": [],
   "source": []
  }
 ],
 "metadata": {
  "kernelspec": {
   "display_name": "Python 3",
   "language": "python",
   "name": "python3"
  },
  "language_info": {
   "codemirror_mode": {
    "name": "ipython",
    "version": 3
   },
   "file_extension": ".py",
   "mimetype": "text/x-python",
   "name": "python",
   "nbconvert_exporter": "python",
   "pygments_lexer": "ipython3",
   "version": "3.6.3"
  }
 },
 "nbformat": 4,
 "nbformat_minor": 2
}
