{
 "cells": [
  {
   "cell_type": "code",
   "execution_count": 18,
   "metadata": {},
   "outputs": [],
   "source": [
    "import numpy as np\n",
    "import pandas as pd\n",
    "import math\n",
    "pi = pd.read_csv('pivalue.csv')\n",
    "r = pd.read_csv('rvalue.csv')\n"
   ]
  },
  {
   "cell_type": "code",
   "execution_count": 19,
   "metadata": {
    "collapsed": true
   },
   "outputs": [],
   "source": [
    "#First, read calibrated data\n",
    "r = np.asarray(r)\n",
    "r = np.flip(r,0)\n",
    "r = np.transpose(r)\n",
    "pi = np.asarray(pi)\n",
    "pi = np.flip(pi,0)\n",
    "pi = np.transpose(pi)\n",
    "value = np.zeros((80,81))"
   ]
  },
  {
   "cell_type": "code",
   "execution_count": 20,
   "metadata": {},
   "outputs": [
    {
     "name": "stdout",
     "output_type": "stream",
     "text": [
      "81 80\n"
     ]
    }
   ],
   "source": [
    "col,row =r.shape\n",
    "print(col,row)\n",
    "#r = np.delete(r,0,1)"
   ]
  },
  {
   "cell_type": "code",
   "execution_count": 21,
   "metadata": {},
   "outputs": [
    {
     "data": {
      "text/plain": [
       "array([2.22155000e-06, 2.78201000e-06, 3.48388000e-06, 4.36280000e-06,\n",
       "       5.46348000e-06, 6.84183000e-06, 8.56792000e-06, 1.07295000e-05,\n",
       "       1.34364000e-05, 1.68262000e-05, 2.10711000e-05, 2.63871000e-05,\n",
       "       3.30441000e-05, 4.13807000e-05, 5.18204000e-05, 6.48939000e-05,\n",
       "       8.12657000e-05, 1.01768000e-04, 1.27442000e-04, 1.59594000e-04,\n",
       "       1.99857000e-04, 2.50278000e-04, 3.13420000e-04, 3.92491000e-04,\n",
       "       4.91511000e-04, 6.15511000e-04, 7.70796000e-04, 9.65256000e-04,\n",
       "       1.20877600e-03, 1.51373200e-03, 1.89562400e-03, 2.37386100e-03,\n",
       "       2.97275100e-03, 3.72273200e-03, 4.66192200e-03, 5.83805500e-03,\n",
       "       7.31090900e-03, 9.15534200e-03, 1.14650980e-02, 1.43575700e-02,\n",
       "       1.79797710e-02, 2.25157990e-02, 2.81961980e-02, 3.53096780e-02,\n",
       "       4.42177820e-02, 5.53732680e-02, 6.93431160e-02, 8.68373480e-02,\n",
       "       1.08745113e-01, 1.36179881e-01, 1.70536030e-01, 2.13559723e-01,\n",
       "       2.67437650e-01, 3.34908173e-01, 4.19400502e-01, 5.25208983e-01,\n",
       "       6.57711362e-01, 8.23642112e-01, 1.03143471e+00, 1.29165028e+00,\n",
       "       1.61751435e+00, 2.02558905e+00, 2.53661491e+00, 3.17656495e+00,\n",
       "       3.97796483e+00, 4.98154592e+00, 6.23831553e+00, 7.81214934e+00,\n",
       "       9.78303790e+00, 1.22511522e+01, 1.53419349e+01, 1.92124758e+01,\n",
       "       2.40594964e+01, 3.01293479e+01, 3.77305323e+01, 4.72493819e+01,\n",
       "       5.91696950e+01, 7.40973250e+01, 9.27909731e+01, 1.16200749e+02])"
      ]
     },
     "execution_count": 21,
     "metadata": {},
     "output_type": "execute_result"
    }
   ],
   "source": [
    "#r[79,:]"
   ]
  },
  {
   "cell_type": "markdown",
   "metadata": {},
   "source": [
    "i is columnm, j is row!!!!"
   ]
  },
  {
   "cell_type": "code",
   "execution_count": 22,
   "metadata": {},
   "outputs": [
    {
     "name": "stdout",
     "output_type": "stream",
     "text": [
      "52.826954851249994\n",
      "234.72178650508567\n",
      "755.691739889575\n",
      "val =  1048.134118335386\n"
     ]
    }
   ],
   "source": [
    "#This function is to get payoff at each node\n",
    "def getpayoff(ii,jj):\n",
    "    dt = 0.25\n",
    "    pi = np.zeros((41,41))\n",
    "    pi[0,0] = 1\n",
    "    jjin = jj\n",
    "    for i in range(1,41):\n",
    "        for j in range(i+1):\n",
    "            if j==0: \n",
    "                pi[i,j]=0.5*pi[i-1,j]*math.exp(-r[ii+i-1,jj]*dt)\n",
    "            else:\n",
    "                #print(ii,jj)\n",
    "                pi[i,j]=0.5*pi[i-1,j]*math.exp(-r[ii+i-1,jj+j]*dt)+\\\n",
    "                    0.5*pi[i-1,j-1]*math.exp(-r[ii+i-1,jj+j-1]*dt)\n",
    "    \n",
    "    sumlast = pi[40,:].sum()\n",
    "    sum1 = 0\n",
    "    for z in range(1,21): \n",
    "        sum1 = sum1 + pi[2*z,:].sum()\n",
    "    sr = (1- sumlast)/(0.5*sum1)\n",
    "    payoff = np.maximum(sr + 0.004,0.001)/4\n",
    "    return payoff\n",
    "\n",
    "# get payoff for each node that has variable rates\n",
    "pay = 0\n",
    "for i in range(4,40):\n",
    "    for j in range(i+1):\n",
    "        #print('outter',i,j)\n",
    "        paynow = 0.5*getpayoff(i,j)*(pi[i+1,j+1] +pi[i+1,j])*1000\n",
    "        #print(paynow)\n",
    "        pay =pay+ paynow\n",
    "#fixed        \n",
    "temp = 0       \n",
    "for i in range(1,5):\n",
    "    temp = temp+ 1000*0.05375/4*pi[i,:].sum()\n",
    "    \n",
    "    \n",
    "val = temp + pay + 1000*pi[40,:].sum()\n",
    "print(temp)\n",
    "print(pay)\n",
    "print(1000*pi[41,:].sum())\n",
    "print(\"val = \",val)"
   ]
  },
  {
   "cell_type": "code",
   "execution_count": null,
   "metadata": {
    "collapsed": true
   },
   "outputs": [],
   "source": []
  }
 ],
 "metadata": {
  "kernelspec": {
   "display_name": "Python 3",
   "language": "python",
   "name": "python3"
  },
  "language_info": {
   "codemirror_mode": {
    "name": "ipython",
    "version": 3
   },
   "file_extension": ".py",
   "mimetype": "text/x-python",
   "name": "python",
   "nbconvert_exporter": "python",
   "pygments_lexer": "ipython3",
   "version": "3.6.3"
  }
 },
 "nbformat": 4,
 "nbformat_minor": 2
}
